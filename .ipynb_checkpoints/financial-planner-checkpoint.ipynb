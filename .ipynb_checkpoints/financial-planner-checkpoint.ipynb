{
 "cells": [
  {
   "cell_type": "markdown",
   "metadata": {},
   "source": [
    "# Unit 5 - Financial Planning"
   ]
  },
  {
   "cell_type": "code",
   "execution_count": 1,
   "metadata": {},
   "outputs": [],
   "source": [
    "# Initial imports\n",
    "import os\n",
    "import requests\n",
    "import pandas as pd\n",
    "from dotenv import load_dotenv\n",
    "import alpaca_trade_api as tradeapi\n",
    "from MCForecastTools import MCSimulation\n",
    "\n",
    "%matplotlib inline"
   ]
  },
  {
   "cell_type": "code",
   "execution_count": 2,
   "metadata": {},
   "outputs": [
    {
     "data": {
      "text/plain": [
       "True"
      ]
     },
     "execution_count": 2,
     "metadata": {},
     "output_type": "execute_result"
    }
   ],
   "source": [
    "# Load .env enviroment variables\n",
    "load_dotenv('master_api.env')"
   ]
  },
  {
   "cell_type": "markdown",
   "metadata": {},
   "source": [
    "## Part 1 - Personal Finance Planner"
   ]
  },
  {
   "cell_type": "markdown",
   "metadata": {},
   "source": [
    "### Collect Crypto Prices Using the `requests` Library"
   ]
  },
  {
   "cell_type": "code",
   "execution_count": 3,
   "metadata": {},
   "outputs": [],
   "source": [
    "# Set current amount of crypto assets\n",
    "my_btc=1.2\n",
    "my_eth=5.3"
   ]
  },
  {
   "cell_type": "code",
   "execution_count": 4,
   "metadata": {},
   "outputs": [],
   "source": [
    "# Crypto API URLs\n",
    "btc_url = \"https://api.alternative.me/v2/ticker/Bitcoin/?convert=CAD\"\n",
    "eth_url = \"https://api.alternative.me/v2/ticker/Ethereum/?convert=CAD\""
   ]
  },
  {
   "cell_type": "code",
   "execution_count": 5,
   "metadata": {},
   "outputs": [
    {
     "data": {
      "text/plain": [
       "21585.0"
      ]
     },
     "metadata": {},
     "output_type": "display_data"
    },
    {
     "name": "stdout",
     "output_type": "stream",
     "text": [
      "The current value of your 1.2 BTC is $25902.00\n",
      "The current value of your 5.3 ETH is $9305.63\n"
     ]
    }
   ],
   "source": [
    "# Fetch current BTC price\n",
    "btc_data=requests.get(btc_url)\n",
    "btc_data = btc_data.json()\n",
    "\n",
    "# Fetch current ETH price\n",
    "eth_data=requests.get(eth_url)\n",
    "eth_data = eth_data.json()\n",
    "# Compute current value of my crpto.\n",
    "# NOTE: MARKING RUBRIC ASKS FOR THE PRICE TO BE IN USD - INCONSISTENT WITH INSTRUCTIONS PROVIDED, WHICH INSTRUCT TO FETCH PRICE IN CAD\n",
    "my_btc_value=my_btc*float(btc_data['data']['1']['quotes']['USD']['price'])\n",
    "my_eth_value=my_eth*float(eth_data['data']['1027']['quotes']['USD']['price'])\n",
    "display(btc_data['data']['1']['quotes']['USD']['price'])\n",
    "print(f\"The current value of your {my_btc} BTC is ${my_btc_value:0.2f}\")\n",
    "print(f\"The current value of your {my_eth} ETH is ${my_eth_value:0.2f}\")"
   ]
  },
  {
   "cell_type": "markdown",
   "metadata": {},
   "source": [
    "### Collect Investments Data Using Alpaca: `SPY` (stocks) and `AGG` (bonds)"
   ]
  },
  {
   "cell_type": "code",
   "execution_count": 6,
   "metadata": {},
   "outputs": [],
   "source": [
    "# Set current amount of shares\n",
    "my_agg = 200\n",
    "my_spy = 50"
   ]
  },
  {
   "cell_type": "code",
   "execution_count": 7,
   "metadata": {},
   "outputs": [],
   "source": [
    "# Set Alpaca API key and secret\n",
    "alpaca_api_key=os.getenv(\"alpaca_api_key\")\n",
    "alpaca_secret_key=os.getenv(\"alpaca_secret_key\")\n",
    "\n",
    "# Create the Alpaca API object\n",
    "alpaca = tradeapi.REST(alpaca_api_key,alpaca_secret_key,api_version=\"v2\")"
   ]
  },
  {
   "cell_type": "code",
   "execution_count": 8,
   "metadata": {},
   "outputs": [
    {
     "data": {
      "text/html": [
       "<div>\n",
       "<style scoped>\n",
       "    .dataframe tbody tr th:only-of-type {\n",
       "        vertical-align: middle;\n",
       "    }\n",
       "\n",
       "    .dataframe tbody tr th {\n",
       "        vertical-align: top;\n",
       "    }\n",
       "\n",
       "    .dataframe thead tr th {\n",
       "        text-align: left;\n",
       "    }\n",
       "\n",
       "    .dataframe thead tr:last-of-type th {\n",
       "        text-align: right;\n",
       "    }\n",
       "</style>\n",
       "<table border=\"1\" class=\"dataframe\">\n",
       "  <thead>\n",
       "    <tr>\n",
       "      <th></th>\n",
       "      <th colspan=\"7\" halign=\"left\">AGG</th>\n",
       "      <th colspan=\"7\" halign=\"left\">SPY</th>\n",
       "    </tr>\n",
       "    <tr>\n",
       "      <th></th>\n",
       "      <th>open</th>\n",
       "      <th>high</th>\n",
       "      <th>low</th>\n",
       "      <th>close</th>\n",
       "      <th>volume</th>\n",
       "      <th>trade_count</th>\n",
       "      <th>vwap</th>\n",
       "      <th>open</th>\n",
       "      <th>high</th>\n",
       "      <th>low</th>\n",
       "      <th>close</th>\n",
       "      <th>volume</th>\n",
       "      <th>trade_count</th>\n",
       "      <th>vwap</th>\n",
       "    </tr>\n",
       "    <tr>\n",
       "      <th>timestamp</th>\n",
       "      <th></th>\n",
       "      <th></th>\n",
       "      <th></th>\n",
       "      <th></th>\n",
       "      <th></th>\n",
       "      <th></th>\n",
       "      <th></th>\n",
       "      <th></th>\n",
       "      <th></th>\n",
       "      <th></th>\n",
       "      <th></th>\n",
       "      <th></th>\n",
       "      <th></th>\n",
       "      <th></th>\n",
       "    </tr>\n",
       "  </thead>\n",
       "  <tbody>\n",
       "    <tr>\n",
       "      <th>2022-09-09 04:00:00+00:00</th>\n",
       "      <td>99.99</td>\n",
       "      <td>100.13</td>\n",
       "      <td>99.73</td>\n",
       "      <td>99.78</td>\n",
       "      <td>7468304</td>\n",
       "      <td>21954</td>\n",
       "      <td>99.883026</td>\n",
       "      <td>402.77</td>\n",
       "      <td>407.51</td>\n",
       "      <td>402.46</td>\n",
       "      <td>406.6</td>\n",
       "      <td>76514124</td>\n",
       "      <td>483283</td>\n",
       "      <td>405.48584</td>\n",
       "    </tr>\n",
       "  </tbody>\n",
       "</table>\n",
       "</div>"
      ],
      "text/plain": [
       "                             AGG                                             \\\n",
       "                            open    high    low  close   volume trade_count   \n",
       "timestamp                                                                     \n",
       "2022-09-09 04:00:00+00:00  99.99  100.13  99.73  99.78  7468304       21954   \n",
       "\n",
       "                                         SPY                                   \\\n",
       "                                vwap    open    high     low  close    volume   \n",
       "timestamp                                                                       \n",
       "2022-09-09 04:00:00+00:00  99.883026  402.77  407.51  402.46  406.6  76514124   \n",
       "\n",
       "                                                  \n",
       "                          trade_count       vwap  \n",
       "timestamp                                         \n",
       "2022-09-09 04:00:00+00:00      483283  405.48584  "
      ]
     },
     "execution_count": 8,
     "metadata": {},
     "output_type": "execute_result"
    }
   ],
   "source": [
    "# Format current date as ISO format\n",
    "today = pd.Timestamp(\"2022-09-09\", tz=\"America/New_York\").isoformat()\n",
    "\n",
    "# Set the tickers\n",
    "tickers = [\"AGG\", \"SPY\"]\n",
    "\n",
    "# Set timeframe to \"1Day\" for Alpaca API\n",
    "timeframe = \"1Day\"\n",
    "\n",
    "# Get current closing prices for SPY and AGG\n",
    "df_portfolio = alpaca.get_bars(tickers,timeframe,start = today,end = today).df\n",
    "\n",
    "# Reorganize the DataFrame\n",
    "# Separate ticker data\n",
    "agg = df_portfolio[df_portfolio['symbol']=='AGG'].drop('symbol', axis=1)\n",
    "spy = df_portfolio[df_portfolio['symbol']=='SPY'].drop('symbol', axis=1)\n",
    "\n",
    "# Concatenate the ticker DataFrames\n",
    "df_portfolio = pd.concat([agg, spy],axis=1, keys=['AGG','SPY'])\n",
    "\n",
    "# Preview DataFrame\n",
    "df_portfolio.head()"
   ]
  },
  {
   "cell_type": "code",
   "execution_count": 9,
   "metadata": {},
   "outputs": [
    {
     "name": "stdout",
     "output_type": "stream",
     "text": [
      "Current AGG closing price: $99.78\n",
      "Current SPY closing price: $406.6\n"
     ]
    }
   ],
   "source": [
    "# Pick AGG and SPY close prices\n",
    "agg_close_price=float(df_portfolio['AGG']['close'])\n",
    "spy_close_price=float(df_portfolio['SPY']['close'])\n",
    "\n",
    "# Print AGG and SPY close prices\n",
    "print(f\"Current AGG closing price: ${agg_close_price}\")\n",
    "print(f\"Current SPY closing price: ${spy_close_price}\")"
   ]
  },
  {
   "cell_type": "code",
   "execution_count": 10,
   "metadata": {},
   "outputs": [
    {
     "name": "stdout",
     "output_type": "stream",
     "text": [
      "The current value of your 50 SPY shares is $19956.00\n",
      "The current value of your 200 AGG shares is $20330.00\n"
     ]
    }
   ],
   "source": [
    "# Compute the current value of shares\n",
    "my_spy_value=my_agg*agg_close_price\n",
    "my_agg_value=my_spy*spy_close_price\n",
    "# Print current value of shares\n",
    "print(f\"The current value of your {my_spy} SPY shares is ${my_spy_value:0.2f}\")\n",
    "print(f\"The current value of your {my_agg} AGG shares is ${my_agg_value:0.2f}\")"
   ]
  },
  {
   "cell_type": "markdown",
   "metadata": {},
   "source": [
    "### Savings Health Analysis"
   ]
  },
  {
   "cell_type": "code",
   "execution_count": 11,
   "metadata": {},
   "outputs": [
    {
     "data": {
      "text/html": [
       "<div>\n",
       "<style scoped>\n",
       "    .dataframe tbody tr th:only-of-type {\n",
       "        vertical-align: middle;\n",
       "    }\n",
       "\n",
       "    .dataframe tbody tr th {\n",
       "        vertical-align: top;\n",
       "    }\n",
       "\n",
       "    .dataframe thead th {\n",
       "        text-align: right;\n",
       "    }\n",
       "</style>\n",
       "<table border=\"1\" class=\"dataframe\">\n",
       "  <thead>\n",
       "    <tr style=\"text-align: right;\">\n",
       "      <th></th>\n",
       "      <th>amount</th>\n",
       "    </tr>\n",
       "    <tr>\n",
       "      <th>0</th>\n",
       "      <th></th>\n",
       "    </tr>\n",
       "  </thead>\n",
       "  <tbody>\n",
       "    <tr>\n",
       "      <th>crypto</th>\n",
       "      <td>51804.0</td>\n",
       "    </tr>\n",
       "    <tr>\n",
       "      <th>shares</th>\n",
       "      <td>40286.0</td>\n",
       "    </tr>\n",
       "  </tbody>\n",
       "</table>\n",
       "</div>"
      ],
      "text/plain": [
       "         amount\n",
       "0              \n",
       "crypto  51804.0\n",
       "shares  40286.0"
      ]
     },
     "metadata": {},
     "output_type": "display_data"
    }
   ],
   "source": [
    "# Set monthly household income\n",
    "monthly_income=12000\n",
    "\n",
    "# Consolidate financial assets data\n",
    "crypto=my_btc_value+my_btc_value\n",
    "shares=my_spy_value+my_agg_value\n",
    "\n",
    "# Create savings DataFrame\n",
    "df_savings=pd.DataFrame(['crypto','shares'])\n",
    "df_savings=df_savings.set_index([0],drop=True)\n",
    "df_savings['amount']=[crypto,shares]\n",
    "# Display savings DataFrame\n",
    "display(df_savings)"
   ]
  },
  {
   "cell_type": "code",
   "execution_count": 12,
   "metadata": {},
   "outputs": [
    {
     "data": {
      "text/plain": [
       "array([<AxesSubplot:ylabel='amount'>], dtype=object)"
      ]
     },
     "execution_count": 12,
     "metadata": {},
     "output_type": "execute_result"
    },
    {
     "data": {
      "image/png": "[encoded data removed]",
      "text/plain": [
       "<Figure size 432x288 with 1 Axes>"
      ]
     },
     "metadata": {},
     "output_type": "display_data"
    }
   ],
   "source": [
    "# Plot savings pie chart\n",
    "df_savings.plot(kind='pie',subplots=True)"
   ]
  },
  {
   "cell_type": "code",
   "execution_count": 13,
   "metadata": {},
   "outputs": [
    {
     "name": "stdout",
     "output_type": "stream",
     "text": [
      "Congratulations! You have enough savings in your emergency fund.\n"
     ]
    }
   ],
   "source": [
    "# Set ideal emergency fund\n",
    "emergency_fund = monthly_income * 3\n",
    "\n",
    "# Calculate total amount of savings\n",
    "savings_total=df_savings.sum()\n",
    "savings_total=savings_total['amount']\n",
    "\n",
    "# Validate saving health\n",
    "if savings_total>emergency_fund:\n",
    "    print('Congratulations! You have enough savings in your emergency fund.')\n",
    "elif savings_total==emergency_fund:\n",
    "    print('Congratulations! You have reached your emergency fund financial goal.')\n",
    "else:\n",
    "    print(f'Dear client, you are ${emergency_fund-savings_total} away from reaching your emergency fund financial goal.')        \n"
   ]
  },
  {
   "cell_type": "markdown",
   "metadata": {},
   "source": [
    "## Part 2 - Retirement Planning\n",
    "\n",
    "### Monte Carlo Simulation"
   ]
  },
  {
   "cell_type": "code",
   "execution_count": 14,
   "metadata": {},
   "outputs": [],
   "source": [
    "# Set start and end dates of five years back from today.\n",
    "# Sample results may vary from the solution based on the time frame chosen\n",
    "start_date = pd.Timestamp('2017-09-09', tz='America/New_York').isoformat()\n",
    "end_date = pd.Timestamp('2022-09-09', tz='America/New_York').isoformat()"
   ]
  },
  {
   "cell_type": "code",
   "execution_count": 15,
   "metadata": {},
   "outputs": [
    {
     "data": {
      "text/html": [
       "<div>\n",
       "<style scoped>\n",
       "    .dataframe tbody tr th:only-of-type {\n",
       "        vertical-align: middle;\n",
       "    }\n",
       "\n",
       "    .dataframe tbody tr th {\n",
       "        vertical-align: top;\n",
       "    }\n",
       "\n",
       "    .dataframe thead tr th {\n",
       "        text-align: left;\n",
       "    }\n",
       "\n",
       "    .dataframe thead tr:last-of-type th {\n",
       "        text-align: right;\n",
       "    }\n",
       "</style>\n",
       "<table border=\"1\" class=\"dataframe\">\n",
       "  <thead>\n",
       "    <tr>\n",
       "      <th></th>\n",
       "      <th colspan=\"7\" halign=\"left\">AGG</th>\n",
       "      <th colspan=\"7\" halign=\"left\">SPY</th>\n",
       "    </tr>\n",
       "    <tr>\n",
       "      <th></th>\n",
       "      <th>open</th>\n",
       "      <th>high</th>\n",
       "      <th>low</th>\n",
       "      <th>close</th>\n",
       "      <th>volume</th>\n",
       "      <th>trade_count</th>\n",
       "      <th>vwap</th>\n",
       "      <th>open</th>\n",
       "      <th>high</th>\n",
       "      <th>low</th>\n",
       "      <th>close</th>\n",
       "      <th>volume</th>\n",
       "      <th>trade_count</th>\n",
       "      <th>vwap</th>\n",
       "    </tr>\n",
       "    <tr>\n",
       "      <th>timestamp</th>\n",
       "      <th></th>\n",
       "      <th></th>\n",
       "      <th></th>\n",
       "      <th></th>\n",
       "      <th></th>\n",
       "      <th></th>\n",
       "      <th></th>\n",
       "      <th></th>\n",
       "      <th></th>\n",
       "      <th></th>\n",
       "      <th></th>\n",
       "      <th></th>\n",
       "      <th></th>\n",
       "      <th></th>\n",
       "    </tr>\n",
       "  </thead>\n",
       "  <tbody>\n",
       "    <tr>\n",
       "      <th>2017-09-11 04:00:00+00:00</th>\n",
       "      <td>110.27</td>\n",
       "      <td>110.29</td>\n",
       "      <td>110.10</td>\n",
       "      <td>110.14</td>\n",
       "      <td>2492743</td>\n",
       "      <td>10614</td>\n",
       "      <td>110.194231</td>\n",
       "      <td>248.04</td>\n",
       "      <td>249.30</td>\n",
       "      <td>248.02</td>\n",
       "      <td>249.21</td>\n",
       "      <td>71364848</td>\n",
       "      <td>211601</td>\n",
       "      <td>248.758253</td>\n",
       "    </tr>\n",
       "    <tr>\n",
       "      <th>2017-09-12 04:00:00+00:00</th>\n",
       "      <td>110.04</td>\n",
       "      <td>110.06</td>\n",
       "      <td>109.92</td>\n",
       "      <td>109.98</td>\n",
       "      <td>2403562</td>\n",
       "      <td>8614</td>\n",
       "      <td>109.979269</td>\n",
       "      <td>249.64</td>\n",
       "      <td>250.09</td>\n",
       "      <td>249.42</td>\n",
       "      <td>250.05</td>\n",
       "      <td>56896027</td>\n",
       "      <td>192649</td>\n",
       "      <td>249.791314</td>\n",
       "    </tr>\n",
       "    <tr>\n",
       "      <th>2017-09-13 04:00:00+00:00</th>\n",
       "      <td>110.00</td>\n",
       "      <td>110.04</td>\n",
       "      <td>109.86</td>\n",
       "      <td>109.87</td>\n",
       "      <td>1304102</td>\n",
       "      <td>6565</td>\n",
       "      <td>109.926598</td>\n",
       "      <td>249.73</td>\n",
       "      <td>250.21</td>\n",
       "      <td>249.59</td>\n",
       "      <td>250.17</td>\n",
       "      <td>59228002</td>\n",
       "      <td>147055</td>\n",
       "      <td>250.040408</td>\n",
       "    </tr>\n",
       "    <tr>\n",
       "      <th>2017-09-14 04:00:00+00:00</th>\n",
       "      <td>109.81</td>\n",
       "      <td>109.97</td>\n",
       "      <td>109.81</td>\n",
       "      <td>109.93</td>\n",
       "      <td>1704216</td>\n",
       "      <td>7111</td>\n",
       "      <td>109.914840</td>\n",
       "      <td>249.83</td>\n",
       "      <td>250.32</td>\n",
       "      <td>249.60</td>\n",
       "      <td>250.09</td>\n",
       "      <td>95446349</td>\n",
       "      <td>188794</td>\n",
       "      <td>250.052841</td>\n",
       "    </tr>\n",
       "    <tr>\n",
       "      <th>2017-09-15 04:00:00+00:00</th>\n",
       "      <td>110.00</td>\n",
       "      <td>110.04</td>\n",
       "      <td>109.86</td>\n",
       "      <td>109.91</td>\n",
       "      <td>2818046</td>\n",
       "      <td>7997</td>\n",
       "      <td>109.928798</td>\n",
       "      <td>248.70</td>\n",
       "      <td>249.29</td>\n",
       "      <td>248.57</td>\n",
       "      <td>249.19</td>\n",
       "      <td>95432382</td>\n",
       "      <td>186880</td>\n",
       "      <td>249.026860</td>\n",
       "    </tr>\n",
       "  </tbody>\n",
       "</table>\n",
       "</div>"
      ],
      "text/plain": [
       "                              AGG                                   \\\n",
       "                             open    high     low   close   volume   \n",
       "timestamp                                                            \n",
       "2017-09-11 04:00:00+00:00  110.27  110.29  110.10  110.14  2492743   \n",
       "2017-09-12 04:00:00+00:00  110.04  110.06  109.92  109.98  2403562   \n",
       "2017-09-13 04:00:00+00:00  110.00  110.04  109.86  109.87  1304102   \n",
       "2017-09-14 04:00:00+00:00  109.81  109.97  109.81  109.93  1704216   \n",
       "2017-09-15 04:00:00+00:00  110.00  110.04  109.86  109.91  2818046   \n",
       "\n",
       "                                                      SPY                  \\\n",
       "                          trade_count        vwap    open    high     low   \n",
       "timestamp                                                                   \n",
       "2017-09-11 04:00:00+00:00       10614  110.194231  248.04  249.30  248.02   \n",
       "2017-09-12 04:00:00+00:00        8614  109.979269  249.64  250.09  249.42   \n",
       "2017-09-13 04:00:00+00:00        6565  109.926598  249.73  250.21  249.59   \n",
       "2017-09-14 04:00:00+00:00        7111  109.914840  249.83  250.32  249.60   \n",
       "2017-09-15 04:00:00+00:00        7997  109.928798  248.70  249.29  248.57   \n",
       "\n",
       "                                                                     \n",
       "                            close    volume trade_count        vwap  \n",
       "timestamp                                                            \n",
       "2017-09-11 04:00:00+00:00  249.21  71364848      211601  248.758253  \n",
       "2017-09-12 04:00:00+00:00  250.05  56896027      192649  249.791314  \n",
       "2017-09-13 04:00:00+00:00  250.17  59228002      147055  250.040408  \n",
       "2017-09-14 04:00:00+00:00  250.09  95446349      188794  250.052841  \n",
       "2017-09-15 04:00:00+00:00  249.19  95432382      186880  249.026860  "
      ]
     },
     "execution_count": 15,
     "metadata": {},
     "output_type": "execute_result"
    }
   ],
   "source": [
    "# Get 5 years' worth of historical data for SPY and AGG\n",
    "df_stock_data = alpaca.get_bars(tickers,timeframe,start = start_date,end = end_date).df\n",
    "\n",
    "# Reorganize the DataFrame\n",
    "# Separate ticker data\n",
    "agg = df_stock_data[df_stock_data['symbol']=='AGG'].drop('symbol', axis=1)\n",
    "spy = df_stock_data[df_stock_data['symbol']=='SPY'].drop('symbol', axis=1)\n",
    "\n",
    "# Concatenate the ticker DataFrames\n",
    "portfolio_stock_data=pd.concat([agg,spy],axis=1, keys=['AGG','SPY'])\n",
    "\n",
    "# Display sample data\n",
    "portfolio_stock_data.head()"
   ]
  },
  {
   "cell_type": "code",
   "execution_count": 16,
   "metadata": {},
   "outputs": [],
   "source": [
    "# Configuring a Monte Carlo simulation to forecast 30 years cumulative returns\n",
    "import MCForecastTools as MC #Decided to include the import line here where it will be used\n",
    "port_weights=[0.4,0.6]\n",
    "timeframe=252*30"
   ]
  },
  {
   "cell_type": "code",
   "execution_count": 17,
   "metadata": {},
   "outputs": [
    {
     "data": {
      "text/html": [
       "<div>\n",
       "<style scoped>\n",
       "    .dataframe tbody tr th:only-of-type {\n",
       "        vertical-align: middle;\n",
       "    }\n",
       "\n",
       "    .dataframe tbody tr th {\n",
       "        vertical-align: top;\n",
       "    }\n",
       "\n",
       "    .dataframe thead tr th {\n",
       "        text-align: left;\n",
       "    }\n",
       "\n",
       "    .dataframe thead tr:last-of-type th {\n",
       "        text-align: right;\n",
       "    }\n",
       "</style>\n",
       "<table border=\"1\" class=\"dataframe\">\n",
       "  <thead>\n",
       "    <tr>\n",
       "      <th></th>\n",
       "      <th colspan=\"7\" halign=\"left\">AGG</th>\n",
       "      <th colspan=\"7\" halign=\"left\">SPY</th>\n",
       "    </tr>\n",
       "    <tr>\n",
       "      <th></th>\n",
       "      <th>open</th>\n",
       "      <th>high</th>\n",
       "      <th>low</th>\n",
       "      <th>close</th>\n",
       "      <th>volume</th>\n",
       "      <th>trade_count</th>\n",
       "      <th>vwap</th>\n",
       "      <th>open</th>\n",
       "      <th>high</th>\n",
       "      <th>low</th>\n",
       "      <th>close</th>\n",
       "      <th>volume</th>\n",
       "      <th>trade_count</th>\n",
       "      <th>vwap</th>\n",
       "    </tr>\n",
       "    <tr>\n",
       "      <th>timestamp</th>\n",
       "      <th></th>\n",
       "      <th></th>\n",
       "      <th></th>\n",
       "      <th></th>\n",
       "      <th></th>\n",
       "      <th></th>\n",
       "      <th></th>\n",
       "      <th></th>\n",
       "      <th></th>\n",
       "      <th></th>\n",
       "      <th></th>\n",
       "      <th></th>\n",
       "      <th></th>\n",
       "      <th></th>\n",
       "    </tr>\n",
       "  </thead>\n",
       "  <tbody>\n",
       "    <tr>\n",
       "      <th>2017-09-11 04:00:00+00:00</th>\n",
       "      <td>110.27</td>\n",
       "      <td>110.29</td>\n",
       "      <td>110.100</td>\n",
       "      <td>110.14</td>\n",
       "      <td>2492743</td>\n",
       "      <td>10614</td>\n",
       "      <td>110.194231</td>\n",
       "      <td>248.04</td>\n",
       "      <td>249.300</td>\n",
       "      <td>248.02</td>\n",
       "      <td>249.21</td>\n",
       "      <td>71364848</td>\n",
       "      <td>211601</td>\n",
       "      <td>248.758253</td>\n",
       "    </tr>\n",
       "    <tr>\n",
       "      <th>2017-09-12 04:00:00+00:00</th>\n",
       "      <td>110.04</td>\n",
       "      <td>110.06</td>\n",
       "      <td>109.920</td>\n",
       "      <td>109.98</td>\n",
       "      <td>2403562</td>\n",
       "      <td>8614</td>\n",
       "      <td>109.979269</td>\n",
       "      <td>249.64</td>\n",
       "      <td>250.090</td>\n",
       "      <td>249.42</td>\n",
       "      <td>250.05</td>\n",
       "      <td>56896027</td>\n",
       "      <td>192649</td>\n",
       "      <td>249.791314</td>\n",
       "    </tr>\n",
       "    <tr>\n",
       "      <th>2017-09-13 04:00:00+00:00</th>\n",
       "      <td>110.00</td>\n",
       "      <td>110.04</td>\n",
       "      <td>109.860</td>\n",
       "      <td>109.87</td>\n",
       "      <td>1304102</td>\n",
       "      <td>6565</td>\n",
       "      <td>109.926598</td>\n",
       "      <td>249.73</td>\n",
       "      <td>250.210</td>\n",
       "      <td>249.59</td>\n",
       "      <td>250.17</td>\n",
       "      <td>59228002</td>\n",
       "      <td>147055</td>\n",
       "      <td>250.040408</td>\n",
       "    </tr>\n",
       "    <tr>\n",
       "      <th>2017-09-14 04:00:00+00:00</th>\n",
       "      <td>109.81</td>\n",
       "      <td>109.97</td>\n",
       "      <td>109.810</td>\n",
       "      <td>109.93</td>\n",
       "      <td>1704216</td>\n",
       "      <td>7111</td>\n",
       "      <td>109.914840</td>\n",
       "      <td>249.83</td>\n",
       "      <td>250.320</td>\n",
       "      <td>249.60</td>\n",
       "      <td>250.09</td>\n",
       "      <td>95446349</td>\n",
       "      <td>188794</td>\n",
       "      <td>250.052841</td>\n",
       "    </tr>\n",
       "    <tr>\n",
       "      <th>2017-09-15 04:00:00+00:00</th>\n",
       "      <td>110.00</td>\n",
       "      <td>110.04</td>\n",
       "      <td>109.860</td>\n",
       "      <td>109.91</td>\n",
       "      <td>2818046</td>\n",
       "      <td>7997</td>\n",
       "      <td>109.928798</td>\n",
       "      <td>248.70</td>\n",
       "      <td>249.290</td>\n",
       "      <td>248.57</td>\n",
       "      <td>249.19</td>\n",
       "      <td>95432382</td>\n",
       "      <td>186880</td>\n",
       "      <td>249.026860</td>\n",
       "    </tr>\n",
       "    <tr>\n",
       "      <th>...</th>\n",
       "      <td>...</td>\n",
       "      <td>...</td>\n",
       "      <td>...</td>\n",
       "      <td>...</td>\n",
       "      <td>...</td>\n",
       "      <td>...</td>\n",
       "      <td>...</td>\n",
       "      <td>...</td>\n",
       "      <td>...</td>\n",
       "      <td>...</td>\n",
       "      <td>...</td>\n",
       "      <td>...</td>\n",
       "      <td>...</td>\n",
       "      <td>...</td>\n",
       "    </tr>\n",
       "    <tr>\n",
       "      <th>2022-09-02 04:00:00+00:00</th>\n",
       "      <td>100.37</td>\n",
       "      <td>100.67</td>\n",
       "      <td>100.130</td>\n",
       "      <td>100.36</td>\n",
       "      <td>5963968</td>\n",
       "      <td>18228</td>\n",
       "      <td>100.362232</td>\n",
       "      <td>400.30</td>\n",
       "      <td>401.555</td>\n",
       "      <td>390.33</td>\n",
       "      <td>392.24</td>\n",
       "      <td>98944421</td>\n",
       "      <td>637607</td>\n",
       "      <td>395.381705</td>\n",
       "    </tr>\n",
       "    <tr>\n",
       "      <th>2022-09-06 04:00:00+00:00</th>\n",
       "      <td>99.96</td>\n",
       "      <td>99.97</td>\n",
       "      <td>99.410</td>\n",
       "      <td>99.42</td>\n",
       "      <td>5105618</td>\n",
       "      <td>20910</td>\n",
       "      <td>99.547845</td>\n",
       "      <td>393.13</td>\n",
       "      <td>394.120</td>\n",
       "      <td>388.42</td>\n",
       "      <td>390.76</td>\n",
       "      <td>75551777</td>\n",
       "      <td>552658</td>\n",
       "      <td>391.263275</td>\n",
       "    </tr>\n",
       "    <tr>\n",
       "      <th>2022-09-07 04:00:00+00:00</th>\n",
       "      <td>99.73</td>\n",
       "      <td>100.13</td>\n",
       "      <td>99.720</td>\n",
       "      <td>100.11</td>\n",
       "      <td>3602611</td>\n",
       "      <td>15080</td>\n",
       "      <td>99.986643</td>\n",
       "      <td>390.37</td>\n",
       "      <td>398.590</td>\n",
       "      <td>390.20</td>\n",
       "      <td>397.78</td>\n",
       "      <td>70572980</td>\n",
       "      <td>486383</td>\n",
       "      <td>395.276386</td>\n",
       "    </tr>\n",
       "    <tr>\n",
       "      <th>2022-09-08 04:00:00+00:00</th>\n",
       "      <td>100.00</td>\n",
       "      <td>100.18</td>\n",
       "      <td>99.785</td>\n",
       "      <td>99.79</td>\n",
       "      <td>5409039</td>\n",
       "      <td>15792</td>\n",
       "      <td>99.984992</td>\n",
       "      <td>395.45</td>\n",
       "      <td>400.860</td>\n",
       "      <td>394.12</td>\n",
       "      <td>400.38</td>\n",
       "      <td>80177250</td>\n",
       "      <td>549029</td>\n",
       "      <td>398.315491</td>\n",
       "    </tr>\n",
       "    <tr>\n",
       "      <th>2022-09-09 04:00:00+00:00</th>\n",
       "      <td>99.99</td>\n",
       "      <td>100.13</td>\n",
       "      <td>99.730</td>\n",
       "      <td>99.78</td>\n",
       "      <td>7468304</td>\n",
       "      <td>21954</td>\n",
       "      <td>99.883026</td>\n",
       "      <td>402.77</td>\n",
       "      <td>407.510</td>\n",
       "      <td>402.46</td>\n",
       "      <td>406.60</td>\n",
       "      <td>76514124</td>\n",
       "      <td>483283</td>\n",
       "      <td>405.485840</td>\n",
       "    </tr>\n",
       "  </tbody>\n",
       "</table>\n",
       "<p>1259 rows × 14 columns</p>\n",
       "</div>"
      ],
      "text/plain": [
       "                              AGG                                    \\\n",
       "                             open    high      low   close   volume   \n",
       "timestamp                                                             \n",
       "2017-09-11 04:00:00+00:00  110.27  110.29  110.100  110.14  2492743   \n",
       "2017-09-12 04:00:00+00:00  110.04  110.06  109.920  109.98  2403562   \n",
       "2017-09-13 04:00:00+00:00  110.00  110.04  109.860  109.87  1304102   \n",
       "2017-09-14 04:00:00+00:00  109.81  109.97  109.810  109.93  1704216   \n",
       "2017-09-15 04:00:00+00:00  110.00  110.04  109.860  109.91  2818046   \n",
       "...                           ...     ...      ...     ...      ...   \n",
       "2022-09-02 04:00:00+00:00  100.37  100.67  100.130  100.36  5963968   \n",
       "2022-09-06 04:00:00+00:00   99.96   99.97   99.410   99.42  5105618   \n",
       "2022-09-07 04:00:00+00:00   99.73  100.13   99.720  100.11  3602611   \n",
       "2022-09-08 04:00:00+00:00  100.00  100.18   99.785   99.79  5409039   \n",
       "2022-09-09 04:00:00+00:00   99.99  100.13   99.730   99.78  7468304   \n",
       "\n",
       "                                                      SPY                   \\\n",
       "                          trade_count        vwap    open     high     low   \n",
       "timestamp                                                                    \n",
       "2017-09-11 04:00:00+00:00       10614  110.194231  248.04  249.300  248.02   \n",
       "2017-09-12 04:00:00+00:00        8614  109.979269  249.64  250.090  249.42   \n",
       "2017-09-13 04:00:00+00:00        6565  109.926598  249.73  250.210  249.59   \n",
       "2017-09-14 04:00:00+00:00        7111  109.914840  249.83  250.320  249.60   \n",
       "2017-09-15 04:00:00+00:00        7997  109.928798  248.70  249.290  248.57   \n",
       "...                               ...         ...     ...      ...     ...   \n",
       "2022-09-02 04:00:00+00:00       18228  100.362232  400.30  401.555  390.33   \n",
       "2022-09-06 04:00:00+00:00       20910   99.547845  393.13  394.120  388.42   \n",
       "2022-09-07 04:00:00+00:00       15080   99.986643  390.37  398.590  390.20   \n",
       "2022-09-08 04:00:00+00:00       15792   99.984992  395.45  400.860  394.12   \n",
       "2022-09-09 04:00:00+00:00       21954   99.883026  402.77  407.510  402.46   \n",
       "\n",
       "                                                                     \n",
       "                            close    volume trade_count        vwap  \n",
       "timestamp                                                            \n",
       "2017-09-11 04:00:00+00:00  249.21  71364848      211601  248.758253  \n",
       "2017-09-12 04:00:00+00:00  250.05  56896027      192649  249.791314  \n",
       "2017-09-13 04:00:00+00:00  250.17  59228002      147055  250.040408  \n",
       "2017-09-14 04:00:00+00:00  250.09  95446349      188794  250.052841  \n",
       "2017-09-15 04:00:00+00:00  249.19  95432382      186880  249.026860  \n",
       "...                           ...       ...         ...         ...  \n",
       "2022-09-02 04:00:00+00:00  392.24  98944421      637607  395.381705  \n",
       "2022-09-06 04:00:00+00:00  390.76  75551777      552658  391.263275  \n",
       "2022-09-07 04:00:00+00:00  397.78  70572980      486383  395.276386  \n",
       "2022-09-08 04:00:00+00:00  400.38  80177250      549029  398.315491  \n",
       "2022-09-09 04:00:00+00:00  406.60  76514124      483283  405.485840  \n",
       "\n",
       "[1259 rows x 14 columns]"
      ]
     },
     "execution_count": 17,
     "metadata": {},
     "output_type": "execute_result"
    }
   ],
   "source": [
    "# Printing the simulation input data\n",
    "portfolio_stock_data #Note that the MCSimulation module in MCForecastTools includes a subroutine that checks whether or not daily returns have been calculated and calculates them if not."
   ]
  },
  {
   "cell_type": "code",
   "execution_count": 18,
   "metadata": {},
   "outputs": [],
   "source": [
    "# Running a Monte Carlo simulation to forecast 30 years cumulative returns\n",
    "output_data=MC.MCSimulation(portfolio_stock_data,weights=port_weights,num_simulation=500, num_trading_days=timeframe)"
   ]
  },
  {
   "cell_type": "code",
   "execution_count": 19,
   "metadata": {},
   "outputs": [
    {
     "name": "stdout",
     "output_type": "stream",
     "text": [
      "Running Monte Carlo simulation number 0.\n",
      "Running Monte Carlo simulation number 10.\n",
      "Running Monte Carlo simulation number 20.\n",
      "Running Monte Carlo simulation number 30.\n",
      "Running Monte Carlo simulation number 40.\n",
      "Running Monte Carlo simulation number 50.\n",
      "Running Monte Carlo simulation number 60.\n",
      "Running Monte Carlo simulation number 70.\n",
      "Running Monte Carlo simulation number 80.\n",
      "Running Monte Carlo simulation number 90.\n",
      "Running Monte Carlo simulation number 100.\n"
     ]
    },
    {
     "name": "stderr",
     "output_type": "stream",
     "text": [
      "C:\\Users\\alexr\\Desktop\\FinTech\\Module 5\\Instructions\\Starter_Code\\MCForecastTools.py:117: PerformanceWarning: DataFrame is highly fragmented.  This is usually the result of calling `frame.insert` many times, which has poor performance.  Consider joining all columns at once using pd.concat(axis=1) instead.  To get a de-fragmented frame, use `newframe = frame.copy()`\n",
      "  portfolio_cumulative_returns[n] = (1 + sim_df.fillna(0)).cumprod()\n"
     ]
    },
    {
     "name": "stdout",
     "output_type": "stream",
     "text": [
      "Running Monte Carlo simulation number 110.\n",
      "Running Monte Carlo simulation number 120.\n",
      "Running Monte Carlo simulation number 130.\n",
      "Running Monte Carlo simulation number 140.\n",
      "Running Monte Carlo simulation number 150.\n",
      "Running Monte Carlo simulation number 160.\n",
      "Running Monte Carlo simulation number 170.\n",
      "Running Monte Carlo simulation number 180.\n",
      "Running Monte Carlo simulation number 190.\n",
      "Running Monte Carlo simulation number 200.\n",
      "Running Monte Carlo simulation number 210.\n",
      "Running Monte Carlo simulation number 220.\n",
      "Running Monte Carlo simulation number 230.\n",
      "Running Monte Carlo simulation number 240.\n",
      "Running Monte Carlo simulation number 250.\n",
      "Running Monte Carlo simulation number 260.\n",
      "Running Monte Carlo simulation number 270.\n",
      "Running Monte Carlo simulation number 280.\n",
      "Running Monte Carlo simulation number 290.\n",
      "Running Monte Carlo simulation number 300.\n",
      "Running Monte Carlo simulation number 310.\n",
      "Running Monte Carlo simulation number 320.\n",
      "Running Monte Carlo simulation number 330.\n",
      "Running Monte Carlo simulation number 340.\n",
      "Running Monte Carlo simulation number 350.\n",
      "Running Monte Carlo simulation number 360.\n",
      "Running Monte Carlo simulation number 370.\n",
      "Running Monte Carlo simulation number 380.\n",
      "Running Monte Carlo simulation number 390.\n",
      "Running Monte Carlo simulation number 400.\n",
      "Running Monte Carlo simulation number 410.\n",
      "Running Monte Carlo simulation number 420.\n",
      "Running Monte Carlo simulation number 430.\n",
      "Running Monte Carlo simulation number 440.\n",
      "Running Monte Carlo simulation number 450.\n",
      "Running Monte Carlo simulation number 460.\n",
      "Running Monte Carlo simulation number 470.\n",
      "Running Monte Carlo simulation number 480.\n",
      "Running Monte Carlo simulation number 490.\n"
     ]
    },
    {
     "data": {
      "text/plain": [
       "<AxesSubplot:title={'center':'500 Simulations of Cumulative Portfolio Return Trajectories Over the Next 7560 Trading Days.'}>"
      ]
     },
     "execution_count": 19,
     "metadata": {},
     "output_type": "execute_result"
    },
    {
     "data": {
      "image/png": "[encoded data removed]",
      "text/plain": [
       "<Figure size 432x288 with 1 Axes>"
      ]
     },
     "metadata": {
      "needs_background": "light"
     },
     "output_type": "display_data"
    }
   ],
   "source": [
    "# Plot simulation outcomes\n",
    "output_data.plot_simulation()"
   ]
  },
  {
   "cell_type": "code",
   "execution_count": 20,
   "metadata": {},
   "outputs": [
    {
     "data": {
      "text/plain": [
       "count           500.000000\n",
       "mean              7.357063\n",
       "std               5.750957\n",
       "min               0.512084\n",
       "25%               3.589384\n",
       "50%               5.684127\n",
       "75%               9.484622\n",
       "max              46.786683\n",
       "95% CI Lower      1.702870\n",
       "95% CI Upper     24.559685\n",
       "Name: 7560, dtype: float64"
      ]
     },
     "execution_count": 20,
     "metadata": {},
     "output_type": "execute_result"
    },
    {
     "data": {
      "image/png": "[encoded data removed]",
      "text/plain": [
       "<Figure size 432x288 with 1 Axes>"
      ]
     },
     "metadata": {
      "needs_background": "light"
     },
     "output_type": "display_data"
    }
   ],
   "source": [
    "# Plot probability distribution and confidence intervals\n",
    "output_data.plot_distribution()\n",
    "output_data.summarize_cumulative_return()"
   ]
  },
  {
   "cell_type": "markdown",
   "metadata": {},
   "source": [
    "### Retirement Analysis"
   ]
  },
  {
   "cell_type": "code",
   "execution_count": 21,
   "metadata": {},
   "outputs": [
    {
     "data": {
      "text/html": [
       "<div>\n",
       "<style scoped>\n",
       "    .dataframe tbody tr th:only-of-type {\n",
       "        vertical-align: middle;\n",
       "    }\n",
       "\n",
       "    .dataframe tbody tr th {\n",
       "        vertical-align: top;\n",
       "    }\n",
       "\n",
       "    .dataframe thead th {\n",
       "        text-align: right;\n",
       "    }\n",
       "</style>\n",
       "<table border=\"1\" class=\"dataframe\">\n",
       "  <thead>\n",
       "    <tr style=\"text-align: right;\">\n",
       "      <th></th>\n",
       "      <th>value</th>\n",
       "    </tr>\n",
       "  </thead>\n",
       "  <tbody>\n",
       "    <tr>\n",
       "      <th>count</th>\n",
       "      <td>500.000000</td>\n",
       "    </tr>\n",
       "    <tr>\n",
       "      <th>mean</th>\n",
       "      <td>7.357063</td>\n",
       "    </tr>\n",
       "    <tr>\n",
       "      <th>std</th>\n",
       "      <td>5.750957</td>\n",
       "    </tr>\n",
       "    <tr>\n",
       "      <th>min</th>\n",
       "      <td>0.512084</td>\n",
       "    </tr>\n",
       "    <tr>\n",
       "      <th>25%</th>\n",
       "      <td>3.589384</td>\n",
       "    </tr>\n",
       "    <tr>\n",
       "      <th>50%</th>\n",
       "      <td>5.684127</td>\n",
       "    </tr>\n",
       "    <tr>\n",
       "      <th>75%</th>\n",
       "      <td>9.484622</td>\n",
       "    </tr>\n",
       "    <tr>\n",
       "      <th>max</th>\n",
       "      <td>46.786683</td>\n",
       "    </tr>\n",
       "    <tr>\n",
       "      <th>95% CI Lower</th>\n",
       "      <td>1.702870</td>\n",
       "    </tr>\n",
       "    <tr>\n",
       "      <th>95% CI Upper</th>\n",
       "      <td>24.559685</td>\n",
       "    </tr>\n",
       "  </tbody>\n",
       "</table>\n",
       "</div>"
      ],
      "text/plain": [
       "                   value\n",
       "count         500.000000\n",
       "mean            7.357063\n",
       "std             5.750957\n",
       "min             0.512084\n",
       "25%             3.589384\n",
       "50%             5.684127\n",
       "75%             9.484622\n",
       "max            46.786683\n",
       "95% CI Lower    1.702870\n",
       "95% CI Upper   24.559685"
      ]
     },
     "metadata": {},
     "output_type": "display_data"
    }
   ],
   "source": [
    "# Fetch summary statistics from the Monte Carlo simulation results\n",
    "MC_results=pd.DataFrame(output_data.summarize_cumulative_return())\n",
    "MC_results.columns=['value']\n",
    "# Print summary statistics\n",
    "display(MC_results)"
   ]
  },
  {
   "cell_type": "markdown",
   "metadata": {},
   "source": [
    "### Calculate the expected portfolio return at the `95%` lower and upper confidence intervals based on a `$20,000` initial investment."
   ]
  },
  {
   "cell_type": "code",
   "execution_count": 24,
   "metadata": {},
   "outputs": [
    {
     "name": "stdout",
     "output_type": "stream",
     "text": [
      "There is a 95% chance that an initial investment of $20000 in the portfolio over the next 30 years will end within in the range of $34057.39 and $491193.71\n"
     ]
    }
   ],
   "source": [
    "# Set initial investment\n",
    "initial_investment = 20000\n",
    "\n",
    "# Use the lower and upper `95%` confidence intervals to calculate the range of the possible outcomes of our $20,000\n",
    "ci_lower=initial_investment*float(MC_results.loc['95% CI Lower'])\n",
    "ci_upper=initial_investment*float(MC_results.loc['95% CI Upper'])\n",
    "\n",
    "# Print results\n",
    "print(f\"There is a 95% chance that an initial investment of ${initial_investment} in the portfolio\"\n",
    "      f\" over the next 30 years will end within in the range of\"\n",
    "      f\" ${ci_lower:0.2f} and ${ci_upper:0.2f}\")"
   ]
  },
  {
   "cell_type": "markdown",
   "metadata": {},
   "source": [
    "### Calculate the expected portfolio return at the `95%` lower and upper confidence intervals based on a `50%` increase in the initial investment."
   ]
  },
  {
   "cell_type": "code",
   "execution_count": 25,
   "metadata": {},
   "outputs": [
    {
     "name": "stdout",
     "output_type": "stream",
     "text": [
      "There is a 95% chance that an initial investment of $30000.0 in the portfolio over the next 30 years will end within in the range of $51086.09 and $736790.56\n"
     ]
    }
   ],
   "source": [
    "# Set initial investment\n",
    "initial_investment = 20000 * 1.5\n",
    "\n",
    "# Use the lower and upper `95%` confidence intervals to calculate the range of the possible outcomes of our $30,000\n",
    "ci_lower=initial_investment*float(MC_results.loc['95% CI Lower'])\n",
    "ci_upper=initial_investment*float(MC_results.loc['95% CI Upper'])\n",
    "\n",
    "# Print results\n",
    "print(f\"There is a 95% chance that an initial investment of ${initial_investment} in the portfolio\"\n",
    "      f\" over the next 30 years will end within in the range of\"\n",
    "      f\" ${ci_lower:0.2f} and ${ci_upper:0.2f}\")"
   ]
  },
  {
   "cell_type": "markdown",
   "metadata": {},
   "source": [
    "## Optional Challenge - Early Retirement\n",
    "\n",
    "\n",
    "### Five Years Retirement Option"
   ]
  },
  {
   "cell_type": "code",
   "execution_count": 26,
   "metadata": {},
   "outputs": [],
   "source": [
    "# Configuring a Monte Carlo simulation to forecast 5 years cumulative returns\n",
    "timeframe=252*5"
   ]
  },
  {
   "cell_type": "code",
   "execution_count": 27,
   "metadata": {},
   "outputs": [],
   "source": [
    "# Running a Monte Carlo simulation to forecast 5 years cumulative returns\n",
    "output_data_early=MC.MCSimulation(portfolio_stock_data,weights=port_weights,num_simulation=500, num_trading_days=timeframe)"
   ]
  },
  {
   "cell_type": "code",
   "execution_count": 28,
   "metadata": {},
   "outputs": [
    {
     "name": "stdout",
     "output_type": "stream",
     "text": [
      "Running Monte Carlo simulation number 0.\n",
      "Running Monte Carlo simulation number 10.\n",
      "Running Monte Carlo simulation number 20.\n",
      "Running Monte Carlo simulation number 30.\n",
      "Running Monte Carlo simulation number 40.\n",
      "Running Monte Carlo simulation number 50.\n",
      "Running Monte Carlo simulation number 60.\n",
      "Running Monte Carlo simulation number 70.\n",
      "Running Monte Carlo simulation number 80.\n",
      "Running Monte Carlo simulation number 90.\n",
      "Running Monte Carlo simulation number 100.\n"
     ]
    },
    {
     "name": "stderr",
     "output_type": "stream",
     "text": [
      "C:\\Users\\alexr\\Desktop\\FinTech\\Module 5\\Instructions\\Starter_Code\\MCForecastTools.py:117: PerformanceWarning: DataFrame is highly fragmented.  This is usually the result of calling `frame.insert` many times, which has poor performance.  Consider joining all columns at once using pd.concat(axis=1) instead.  To get a de-fragmented frame, use `newframe = frame.copy()`\n",
      "  portfolio_cumulative_returns[n] = (1 + sim_df.fillna(0)).cumprod()\n"
     ]
    },
    {
     "name": "stdout",
     "output_type": "stream",
     "text": [
      "Running Monte Carlo simulation number 110.\n",
      "Running Monte Carlo simulation number 120.\n",
      "Running Monte Carlo simulation number 130.\n",
      "Running Monte Carlo simulation number 140.\n",
      "Running Monte Carlo simulation number 150.\n",
      "Running Monte Carlo simulation number 160.\n",
      "Running Monte Carlo simulation number 170.\n",
      "Running Monte Carlo simulation number 180.\n",
      "Running Monte Carlo simulation number 190.\n",
      "Running Monte Carlo simulation number 200.\n",
      "Running Monte Carlo simulation number 210.\n",
      "Running Monte Carlo simulation number 220.\n",
      "Running Monte Carlo simulation number 230.\n",
      "Running Monte Carlo simulation number 240.\n",
      "Running Monte Carlo simulation number 250.\n",
      "Running Monte Carlo simulation number 260.\n",
      "Running Monte Carlo simulation number 270.\n",
      "Running Monte Carlo simulation number 280.\n",
      "Running Monte Carlo simulation number 290.\n",
      "Running Monte Carlo simulation number 300.\n",
      "Running Monte Carlo simulation number 310.\n",
      "Running Monte Carlo simulation number 320.\n",
      "Running Monte Carlo simulation number 330.\n",
      "Running Monte Carlo simulation number 340.\n",
      "Running Monte Carlo simulation number 350.\n",
      "Running Monte Carlo simulation number 360.\n",
      "Running Monte Carlo simulation number 370.\n",
      "Running Monte Carlo simulation number 380.\n",
      "Running Monte Carlo simulation number 390.\n",
      "Running Monte Carlo simulation number 400.\n",
      "Running Monte Carlo simulation number 410.\n",
      "Running Monte Carlo simulation number 420.\n",
      "Running Monte Carlo simulation number 430.\n",
      "Running Monte Carlo simulation number 440.\n",
      "Running Monte Carlo simulation number 450.\n",
      "Running Monte Carlo simulation number 460.\n",
      "Running Monte Carlo simulation number 470.\n",
      "Running Monte Carlo simulation number 480.\n",
      "Running Monte Carlo simulation number 490.\n"
     ]
    },
    {
     "data": {
      "text/plain": [
       "<AxesSubplot:title={'center':'500 Simulations of Cumulative Portfolio Return Trajectories Over the Next 1260 Trading Days.'}>"
      ]
     },
     "execution_count": 28,
     "metadata": {},
     "output_type": "execute_result"
    },
    {
     "data": {
      "image/png": "[encoded data removed]",
      "text/plain": [
       "<Figure size 432x288 with 1 Axes>"
      ]
     },
     "metadata": {
      "needs_background": "light"
     },
     "output_type": "display_data"
    }
   ],
   "source": [
    "# Plot simulation outcomes\n",
    "output_data_early.plot_simulation()"
   ]
  },
  {
   "cell_type": "code",
   "execution_count": 29,
   "metadata": {},
   "outputs": [
    {
     "data": {
      "text/plain": [
       "count           500.000000\n",
       "mean              1.400914\n",
       "std               0.415276\n",
       "min               0.609520\n",
       "25%               1.108451\n",
       "50%               1.345332\n",
       "75%               1.612519\n",
       "max               2.882877\n",
       "95% CI Lower      0.734597\n",
       "95% CI Upper      2.428897\n",
       "Name: 1260, dtype: float64"
      ]
     },
     "execution_count": 29,
     "metadata": {},
     "output_type": "execute_result"
    },
    {
     "data": {
      "image/png": "[encoded data removed]",
      "text/plain": [
       "<Figure size 432x288 with 1 Axes>"
      ]
     },
     "metadata": {
      "needs_background": "light"
     },
     "output_type": "display_data"
    }
   ],
   "source": [
    "# Plot probability distribution and confidence intervals\n",
    "output_data_early.plot_distribution()\n",
    "output_data_early.summarize_cumulative_return()"
   ]
  },
  {
   "cell_type": "code",
   "execution_count": 30,
   "metadata": {},
   "outputs": [
    {
     "data": {
      "text/html": [
       "<div>\n",
       "<style scoped>\n",
       "    .dataframe tbody tr th:only-of-type {\n",
       "        vertical-align: middle;\n",
       "    }\n",
       "\n",
       "    .dataframe tbody tr th {\n",
       "        vertical-align: top;\n",
       "    }\n",
       "\n",
       "    .dataframe thead th {\n",
       "        text-align: right;\n",
       "    }\n",
       "</style>\n",
       "<table border=\"1\" class=\"dataframe\">\n",
       "  <thead>\n",
       "    <tr style=\"text-align: right;\">\n",
       "      <th></th>\n",
       "      <th>value</th>\n",
       "    </tr>\n",
       "  </thead>\n",
       "  <tbody>\n",
       "    <tr>\n",
       "      <th>count</th>\n",
       "      <td>500.000000</td>\n",
       "    </tr>\n",
       "    <tr>\n",
       "      <th>mean</th>\n",
       "      <td>1.400914</td>\n",
       "    </tr>\n",
       "    <tr>\n",
       "      <th>std</th>\n",
       "      <td>0.415276</td>\n",
       "    </tr>\n",
       "    <tr>\n",
       "      <th>min</th>\n",
       "      <td>0.609520</td>\n",
       "    </tr>\n",
       "    <tr>\n",
       "      <th>25%</th>\n",
       "      <td>1.108451</td>\n",
       "    </tr>\n",
       "    <tr>\n",
       "      <th>50%</th>\n",
       "      <td>1.345332</td>\n",
       "    </tr>\n",
       "    <tr>\n",
       "      <th>75%</th>\n",
       "      <td>1.612519</td>\n",
       "    </tr>\n",
       "    <tr>\n",
       "      <th>max</th>\n",
       "      <td>2.882877</td>\n",
       "    </tr>\n",
       "    <tr>\n",
       "      <th>95% CI Lower</th>\n",
       "      <td>0.734597</td>\n",
       "    </tr>\n",
       "    <tr>\n",
       "      <th>95% CI Upper</th>\n",
       "      <td>2.428897</td>\n",
       "    </tr>\n",
       "  </tbody>\n",
       "</table>\n",
       "</div>"
      ],
      "text/plain": [
       "                   value\n",
       "count         500.000000\n",
       "mean            1.400914\n",
       "std             0.415276\n",
       "min             0.609520\n",
       "25%             1.108451\n",
       "50%             1.345332\n",
       "75%             1.612519\n",
       "max             2.882877\n",
       "95% CI Lower    0.734597\n",
       "95% CI Upper    2.428897"
      ]
     },
     "metadata": {},
     "output_type": "display_data"
    }
   ],
   "source": [
    "# Fetch summary statistics from the Monte Carlo simulation results\n",
    "MC_results_early=pd.DataFrame(output_data_early.summarize_cumulative_return())\n",
    "MC_results_early.columns=['value']\n",
    "\n",
    "# Print summary statistics\n",
    "display(MC_results_early)"
   ]
  },
  {
   "cell_type": "code",
   "execution_count": 31,
   "metadata": {},
   "outputs": [
    {
     "name": "stdout",
     "output_type": "stream",
     "text": [
      "There is a 95% chance that an initial investment of $60000 in the portfolio over the next 5 years will end within in the range of $44075.84 and $145733.80\n"
     ]
    }
   ],
   "source": [
    "# Set initial investment\n",
    "initial_investment_early=20000 * 3\n",
    "port_weights=[0.4,0.6]\n",
    "# Use the lower and upper `95%` confidence intervals to calculate the range of the possible outcomes of our $60,000\n",
    "ci_lower_five=initial_investment_early*float(MC_results_early.loc['95% CI Lower'])\n",
    "ci_upper_five=initial_investment_early*float(MC_results_early.loc['95% CI Upper'])\n",
    "\n",
    "# Print results\n",
    "print(f\"There is a 95% chance that an initial investment of ${initial_investment_early} in the portfolio\"\n",
    "      f\" over the next 5 years will end within in the range of\"\n",
    "      f\" ${ci_lower_five:0.2f} and ${ci_upper_five:0.2f}\")"
   ]
  },
  {
   "cell_type": "markdown",
   "metadata": {},
   "source": [
    "### Ten Years Retirement Option"
   ]
  },
  {
   "cell_type": "code",
   "execution_count": 32,
   "metadata": {},
   "outputs": [],
   "source": [
    "# Configuring a Monte Carlo simulation to forecast 10 years cumulative returns\n",
    "timeframe=10*252\n",
    "port_weights=[0.2,0.8]"
   ]
  },
  {
   "cell_type": "code",
   "execution_count": 33,
   "metadata": {},
   "outputs": [],
   "source": [
    "# Running a Monte Carlo simulation to forecast 10 years cumulative returns\n",
    "output_data_ten=MC.MCSimulation(portfolio_stock_data,weights=port_weights,num_simulation=500, num_trading_days=timeframe)"
   ]
  },
  {
   "cell_type": "code",
   "execution_count": 34,
   "metadata": {},
   "outputs": [
    {
     "name": "stdout",
     "output_type": "stream",
     "text": [
      "Running Monte Carlo simulation number 0.\n",
      "Running Monte Carlo simulation number 10.\n",
      "Running Monte Carlo simulation number 20.\n",
      "Running Monte Carlo simulation number 30.\n",
      "Running Monte Carlo simulation number 40.\n",
      "Running Monte Carlo simulation number 50.\n",
      "Running Monte Carlo simulation number 60.\n",
      "Running Monte Carlo simulation number 70.\n",
      "Running Monte Carlo simulation number 80.\n",
      "Running Monte Carlo simulation number 90.\n",
      "Running Monte Carlo simulation number 100.\n"
     ]
    },
    {
     "name": "stderr",
     "output_type": "stream",
     "text": [
      "C:\\Users\\alexr\\Desktop\\FinTech\\Module 5\\Instructions\\Starter_Code\\MCForecastTools.py:117: PerformanceWarning: DataFrame is highly fragmented.  This is usually the result of calling `frame.insert` many times, which has poor performance.  Consider joining all columns at once using pd.concat(axis=1) instead.  To get a de-fragmented frame, use `newframe = frame.copy()`\n",
      "  portfolio_cumulative_returns[n] = (1 + sim_df.fillna(0)).cumprod()\n"
     ]
    },
    {
     "name": "stdout",
     "output_type": "stream",
     "text": [
      "Running Monte Carlo simulation number 110.\n",
      "Running Monte Carlo simulation number 120.\n",
      "Running Monte Carlo simulation number 130.\n",
      "Running Monte Carlo simulation number 140.\n",
      "Running Monte Carlo simulation number 150.\n",
      "Running Monte Carlo simulation number 160.\n",
      "Running Monte Carlo simulation number 170.\n",
      "Running Monte Carlo simulation number 180.\n",
      "Running Monte Carlo simulation number 190.\n",
      "Running Monte Carlo simulation number 200.\n",
      "Running Monte Carlo simulation number 210.\n",
      "Running Monte Carlo simulation number 220.\n",
      "Running Monte Carlo simulation number 230.\n",
      "Running Monte Carlo simulation number 240.\n",
      "Running Monte Carlo simulation number 250.\n",
      "Running Monte Carlo simulation number 260.\n",
      "Running Monte Carlo simulation number 270.\n",
      "Running Monte Carlo simulation number 280.\n",
      "Running Monte Carlo simulation number 290.\n",
      "Running Monte Carlo simulation number 300.\n",
      "Running Monte Carlo simulation number 310.\n",
      "Running Monte Carlo simulation number 320.\n",
      "Running Monte Carlo simulation number 330.\n",
      "Running Monte Carlo simulation number 340.\n",
      "Running Monte Carlo simulation number 350.\n",
      "Running Monte Carlo simulation number 360.\n",
      "Running Monte Carlo simulation number 370.\n",
      "Running Monte Carlo simulation number 380.\n",
      "Running Monte Carlo simulation number 390.\n",
      "Running Monte Carlo simulation number 400.\n",
      "Running Monte Carlo simulation number 410.\n",
      "Running Monte Carlo simulation number 420.\n",
      "Running Monte Carlo simulation number 430.\n",
      "Running Monte Carlo simulation number 440.\n",
      "Running Monte Carlo simulation number 450.\n",
      "Running Monte Carlo simulation number 460.\n",
      "Running Monte Carlo simulation number 470.\n",
      "Running Monte Carlo simulation number 480.\n",
      "Running Monte Carlo simulation number 490.\n"
     ]
    },
    {
     "data": {
      "text/plain": [
       "<AxesSubplot:title={'center':'500 Simulations of Cumulative Portfolio Return Trajectories Over the Next 2520 Trading Days.'}>"
      ]
     },
     "execution_count": 34,
     "metadata": {},
     "output_type": "execute_result"
    },
    {
     "data": {
      "image/png": "[encoded data removed]",
      "text/plain": [
       "<Figure size 432x288 with 1 Axes>"
      ]
     },
     "metadata": {
      "needs_background": "light"
     },
     "output_type": "display_data"
    }
   ],
   "source": [
    "# Plot simulation outcomes\n",
    "output_data_ten.plot_simulation()"
   ]
  },
  {
   "cell_type": "code",
   "execution_count": 35,
   "metadata": {},
   "outputs": [
    {
     "data": {
      "text/plain": [
       "count           500.000000\n",
       "mean              2.572923\n",
       "std               1.385587\n",
       "min               0.558260\n",
       "25%               1.566113\n",
       "50%               2.284370\n",
       "75%               3.279540\n",
       "max               8.373086\n",
       "95% CI Lower      0.825236\n",
       "95% CI Upper      6.219418\n",
       "Name: 2520, dtype: float64"
      ]
     },
     "execution_count": 35,
     "metadata": {},
     "output_type": "execute_result"
    },
    {
     "data": {
      "image/png": "[encoded data removed]",
      "text/plain": [
       "<Figure size 432x288 with 1 Axes>"
      ]
     },
     "metadata": {
      "needs_background": "light"
     },
     "output_type": "display_data"
    }
   ],
   "source": [
    "# Plot probability distribution and confidence intervals\n",
    "output_data_ten.plot_distribution()\n",
    "output_data_ten.summarize_cumulative_return()"
   ]
  },
  {
   "cell_type": "code",
   "execution_count": 36,
   "metadata": {},
   "outputs": [
    {
     "data": {
      "text/html": [
       "<div>\n",
       "<style scoped>\n",
       "    .dataframe tbody tr th:only-of-type {\n",
       "        vertical-align: middle;\n",
       "    }\n",
       "\n",
       "    .dataframe tbody tr th {\n",
       "        vertical-align: top;\n",
       "    }\n",
       "\n",
       "    .dataframe thead th {\n",
       "        text-align: right;\n",
       "    }\n",
       "</style>\n",
       "<table border=\"1\" class=\"dataframe\">\n",
       "  <thead>\n",
       "    <tr style=\"text-align: right;\">\n",
       "      <th></th>\n",
       "      <th>value</th>\n",
       "    </tr>\n",
       "  </thead>\n",
       "  <tbody>\n",
       "    <tr>\n",
       "      <th>count</th>\n",
       "      <td>500.000000</td>\n",
       "    </tr>\n",
       "    <tr>\n",
       "      <th>mean</th>\n",
       "      <td>2.572923</td>\n",
       "    </tr>\n",
       "    <tr>\n",
       "      <th>std</th>\n",
       "      <td>1.385587</td>\n",
       "    </tr>\n",
       "    <tr>\n",
       "      <th>min</th>\n",
       "      <td>0.558260</td>\n",
       "    </tr>\n",
       "    <tr>\n",
       "      <th>25%</th>\n",
       "      <td>1.566113</td>\n",
       "    </tr>\n",
       "    <tr>\n",
       "      <th>50%</th>\n",
       "      <td>2.284370</td>\n",
       "    </tr>\n",
       "    <tr>\n",
       "      <th>75%</th>\n",
       "      <td>3.279540</td>\n",
       "    </tr>\n",
       "    <tr>\n",
       "      <th>max</th>\n",
       "      <td>8.373086</td>\n",
       "    </tr>\n",
       "    <tr>\n",
       "      <th>95% CI Lower</th>\n",
       "      <td>0.825236</td>\n",
       "    </tr>\n",
       "    <tr>\n",
       "      <th>95% CI Upper</th>\n",
       "      <td>6.219418</td>\n",
       "    </tr>\n",
       "  </tbody>\n",
       "</table>\n",
       "</div>"
      ],
      "text/plain": [
       "                   value\n",
       "count         500.000000\n",
       "mean            2.572923\n",
       "std             1.385587\n",
       "min             0.558260\n",
       "25%             1.566113\n",
       "50%             2.284370\n",
       "75%             3.279540\n",
       "max             8.373086\n",
       "95% CI Lower    0.825236\n",
       "95% CI Upper    6.219418"
      ]
     },
     "metadata": {},
     "output_type": "display_data"
    }
   ],
   "source": [
    "# Fetch summary statistics from the Monte Carlo simulation results\n",
    "MC_results_ten=pd.DataFrame(output_data_ten.summarize_cumulative_return())\n",
    "MC_results_ten.columns=['value']\n",
    "\n",
    "# Print summary statistics\n",
    "display(MC_results_ten)"
   ]
  },
  {
   "cell_type": "code",
   "execution_count": 37,
   "metadata": {},
   "outputs": [
    {
     "name": "stdout",
     "output_type": "stream",
     "text": [
      "There is a 95% chance that an initial investment of $60000 in the portfolio over the next 10 years will end within in the range of $49514.14 and $373165.06\n"
     ]
    }
   ],
   "source": [
    "# Set initial investment\n",
    "initial_investment_ten=20000 * 3\n",
    "\n",
    "# Use the lower and upper `95%` confidence intervals to calculate the range of the possible outcomes of our $60,000\n",
    "ci_lower_ten=initial_investment_ten*float(MC_results_ten.loc['95% CI Lower'])\n",
    "ci_upper_ten=initial_investment_ten*float(MC_results_ten.loc['95% CI Upper'])\n",
    "\n",
    "# Print results\n",
    "print(f\"There is a 95% chance that an initial investment of ${initial_investment_ten} in the portfolio\"\n",
    "      f\" over the next 10 years will end within in the range of\"\n",
    "      f\" ${ci_lower_ten:0.2f} and ${ci_upper_ten:0.2f}\")"
   ]
  },
  {
   "cell_type": "markdown",
   "metadata": {},
   "source": [
    "# Question:\n",
    "## Will weighting the portfolio more heavily toward stocks allow the credit union members to retire after only 10 years? \n",
    "### Answer:\n",
    "No, because the stock portfolio is affected by the timeframe.  Considering the lower bound 95% confidence level returns on the stocks, the 10 year investment is observed to be ~50% higher than that of the 30 year investment, but that is because of the higher initial investment of 60k. In fact, the return on investment is approx. 0.8 -- a loss of 20% on initial investment. In contrast, the return on investment for the 30-yr period is approximately 1.7. Furthermore, if the upper bound 95% confidence level returns is considred, the 30-yr return on investment (24.5) is also seen to outperfom the 10-yr return (6.22) by approximately a factor of approx. 4.\n",
    "\n"
   ]
  },
  {
   "cell_type": "code",
   "execution_count": null,
   "metadata": {},
   "outputs": [],
   "source": []
  }
 ],
 "metadata": {
  "kernelspec": {
   "display_name": "Python 3 (ipykernel)",
   "language": "python",
   "name": "python3"
  },
  "language_info": {
   "codemirror_mode": {
    "name": "ipython",
    "version": 3
   },
   "file_extension": ".py",
   "mimetype": "text/x-python",
   "name": "python",
   "nbconvert_exporter": "python",
   "pygments_lexer": "ipython3",
   "version": "3.7.13"
  },
  "nteract": {
   "version": "0.28.0"
  }
 },
 "nbformat": 4,
 "nbformat_minor": 4
}
